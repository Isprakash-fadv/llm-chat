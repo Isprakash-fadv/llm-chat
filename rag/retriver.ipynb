{
 "cells": [
  {
   "cell_type": "code",
   "execution_count": null,
   "metadata": {},
   "outputs": [],
   "source": []
  },
  {
   "cell_type": "code",
   "execution_count": 4,
   "metadata": {},
   "outputs": [
    {
     "data": {
      "text/plain": [
       "[Document(page_content=' \\n  ', metadata={'source': 'volley.pdf', 'page': 0}),\n",
       " Document(page_content=' \\n \\nVolleyball  \\n1 \\n About the T utorial  \\nVolleyball is played by two teams in a rectangular court, divided into tw o equal halves \\nacross the length by a net tightly stretched between two poles fixed at either sides of the \\ncourt. It is one of most popular games and is today widely played across the world.  This \\ntutorial will provide you with a bird’s -eye-view of this pop ular game and its rules.  \\n \\nAudience  \\nVolleyball is widely played across the world and various tournaments are conducted in \\nmany countries. People like to  watch  and play this game. This tutorial is meant for all \\nthose readers who want to learn how to play volleyball.  \\n \\nPrerequisites  \\nThere are no prerequisites whatsoever.  All that you need to have is an eagerness to learn \\nand play this game.  \\n \\nCopyright & Disclaimer  \\n\\uf0e3 Copyright 20 22 by Tutorials Point  (I) Pvt. Ltd.  \\nAll the content and graphics published in this e -book are the property of Tutorials Point (I) \\nPvt. Ltd. The user of this e -book is prohibited to reuse, retain, copy, distribute, or republish \\nany contents or a part of contents of this e -book in any manner without written consent \\nof the publisher.  \\nWe strive to update the contents of our website and tutorials as timely and as precisely as \\npossible, however, the contents may contain inaccuracies or errors. Tutorials Point (I) Pvt. \\nLtd. provides  no guarantee regarding the accuracy, timeliness, or completeness of our \\nwebsite or its contents including this tutorial. If you discover any errors on our website or \\nin this tutorial, please notify us at contact@tutorialspoint.com  \\n \\n ', metadata={'source': 'volley.pdf', 'page': 1}),\n",
       " Document(page_content=' \\n \\nVolleyball  \\n2 \\n T able of Contents  \\nAbout the Tutorial  ................................ ................................ ................................ ................................ ...........  1 \\nAudience ................................ ................................ ................................ ................................ ..........................  1 \\nPrerequisites  ................................ ................................ ................................ ................................ ....................  1 \\nCopyright & Disclaimer  ................................ ................................ ................................ ................................ .... 1 \\nTable of Contents ................................ ................................ ................................ ................................ .............  2 \\n1. VOLLEYBALL – OVERVIE W ................................ ................................ ................................ .... 3 \\n2. VOLLEYBALL  – PLAYING ENVI RONMENT  ................................ ................................ ...............  5 \\n3. VOLLEYBALL  – EQUIPMENT  ................................ ................................ ................................ .. 6 \\n4. VOLLEYBALL – COMMON TERMS  ................................ ................................ .........................  7 \\n5. VOLLEYBALL – HOW TO PLAY?  ................................ ................................ .............................  8 \\n6. VOLLEYBALL – RULES  ................................ ................................ ................................ ..........  10 \\n7. VOLLEYBALL – VARIANTS  ................................ ................................ ................................ .... 11 \\n8. VOLLEYBALL  – CHAMPIONS  ................................ ................................ ................................  12 \\n ', metadata={'source': 'volley.pdf', 'page': 2}),\n",
       " Document(page_content=' \\n \\nVolleyball  \\n3 \\n Volleyball originated  in the United States at a YMCA club in Holyoke in 1895 as \\nMintonette . It was invented by William G. Morgan, a physical director of the YMCA club . \\nHe wanted to invent a not -so-strenuous indoor game that businessmen in  the club can \\nplay. Players strike the ball and it volleys among the players, so it was later named \\nVolleyball  by a professor from Springfield College in Massachusetts.  \\nVolleyball  quickly gained popularity among various YMCA branches in the States and it \\nwas subsequently spread to other parts of the world during the World War I by the \\nAmerican troops. Since, it is not a very vigorous sport , women also took interest in the \\nsport and started playing Volleyball.  \\nVolleyball is played by two teams in a rec tangular court, divided into two equal halves \\nacross the length by a net tightly stretched between two poles fixed at either sides of the \\ncourt. It is one of most popular rally games and is today widely played across the world.  \\nThe objective o f the game is to try to make the ball touch the ground  on the opponent  \\nside. When the ball is hit by a team , the members of other team hit it with their hands  to \\nprevent it from touching the ground and to send it to another teammate or to the other \\nside of the court  across the net . Only three players from the team can strike the ball \\nsuccessively  before they send it to the other team.   \\nVolleyball allows players to pass the ball among teammates li ke basketball, but the \\nstrategies of defending and attacking are similar to other net or racquet games.  Players \\ntry to shoot the ball over the net at the opponent  side where it is tough for the opponents \\nto volley it . The players of both teams have to prevent ball touching the ground  thus \\npreventing the opponent to gain points . \\nTeam Size  \\nVolleyball is played among two teams of six players each.  A team may also have six more \\nsubstitute players. One of the pla yers is team c aptain and one of them is Libero . Players \\nare positioned in two rows of three players each. The Libero is identified with a dress \\ndifferent from other team members. He is a specialist in defending  and cannot serve or \\nmove to the front court. \\nThe team captain along with the coach is responsible for  maintain ing discipline in the team. \\nThe team captain also represents the team and speaks about their team members \\nconcerns.  \\nDuring competition , each team has a coach, one or two assistant coac hes, a \\nphysiotherapist and a doctor. These members sit along with substitute players on their \\nteam bench outside free zone.  \\nParticipating Countries  \\nAs volley ball originated in the United States, it is very popular there . The game has spread \\nto other s urrounding countries  and Europe . The game is simple, quick, entertaining and \\ndoes not require much equipment .  \\nMany times in world championships, a new team surprisingly emerges as a top contender \\nand proves th at good coaching facilities and good practice can make good players.  1. Volleyball  – Overview  ', metadata={'source': 'volley.pdf', 'page': 3}),\n",
       " Document(page_content=' \\n \\nVolleyball  \\n4 \\n Russians and the former Soviet teams  won many Olympics and world championships. The \\ngame is also widely played in China, Japan,  and Korea . Some  other countries that take \\npart in this game are Brazil, Mexico, Canada, Cuba, United States, Australia, New Zealand, \\nPhilippines, and Argentina . \\nRegulating Bodies  \\nFédération Inte rnationale de Volleyball  (FIVB) is the international regulating body of \\nvolleyball. It governs rules, appoints referees for international tournaments and conducts \\nworld cups and world championships for both men and women. It was formed in Paris and \\nthe current headquarters is at M exico.  \\nFIVB is the official governing body responsible for conducting various tournaments and \\npromoting volleyball and beach volleyball.  About 220 national volleyball organizations are \\nmembers of FIVB. Many of these federations organize volleyball champio nships and the \\nwinners take part in international events.  \\n \\n ', metadata={'source': 'volley.pdf', 'page': 4}),\n",
       " Document(page_content=' \\n \\nVolleyball  \\n5 \\n Volleyball is played in a rectangular court, divided into two equal halves across the length \\nby a net tightly stretched between two poles , fixed at either sides of  the court.  \\nCourt Design  \\nA standard internationa l volley ball court is an indoor,  rectangular in shape wh ose sides are \\n18 meters and the ends are 9 meters . The surface of the court is neither slippery nor  \\nrough , to avoid injuries . International courts have wooden or synthetic flooring . \\nThe court is divided into two similar squares of 9 X 9 meters  by a center line , one for each \\nteam. The court is further divided into the following zones : \\nFree zone  – The playing surface is surrounded by a free zone up to 3 meter s on all sides. \\nThe free zone in  international courts is  5 m from the longer sides and 8 meter from the \\nshorter sides.  \\nFront zone  – The front zone in each half extends from the center line to the attack line. \\nIt is drawn 3 meters away from the center line on both sides of the court.  \\nService zone  – This zone is used for servicing  the ball to the opponent court  behind the \\nend lines and has a width of 9 metres. The player has to be in the service zone while \\njumping or serving.  \\nSubstitution zone  – The substitution zone lies between the s corer’s table and the attack \\nline. \\nLibero replacement zone  – The Libero replacement zone is a part of the free zone beside \\nteam benches and between the extended attack line and the end line.  2. Volleyball  – Playing Environment  ', metadata={'source': 'volley.pdf', 'page': 5}),\n",
       " Document(page_content=' \\n \\nVolleyball  \\n6 \\n Volley ball is a simple game  which  doesn’t require any equipment other than a ball, a net \\nand a  flat court. Even tw o players c an play and have fun with volley ball. \\nNet \\nNet is one-meter -long and 9.5 to 10 meter  wide. \\nIt is tied vertically above the center line of the \\ncourt to posts fixed at either sides of the court, \\nat a distance of one meter from the sidelines.  The \\ncenter of the net should lie 2.43 meter above the \\nground for men and 2.24 meter for women. At \\nthe sides the net may be higher by a maximum \\nof 2cm, however it should be tied at the same \\nheight at both the posts.  \\nThe court width is marked on the net w ith a tape \\nand some flexible antennae  of one meter extends from the tape marker on both sides of \\nthe net. These marking s help the referee d etermine when the ball goes outside the court . \\nBall \\nVolley ball a spherical ball of 65 -67 cm \\ncircumference . It is made of leather or any \\nsynthetic material and weighs 260 -280 g.  \\nVolleyballs are available in various colors, \\nhowever for international tournaments, FIVB \\napproved balls should only be used.  \\n \\nOther Equipment    \\nPlayers  of a team are uniformly dressed  in jers eys, shorts, socks and sport shoes. Jerseys \\nof each team has a different color . \\n \\n \\n 3. Volleyball  – Equipment  \\n', metadata={'source': 'volley.pdf', 'page': 6}),\n",
       " Document(page_content=' \\n \\nVolleyball  \\n7 \\n \\uf0b7 Rally  – A ball is serviced by a player and players  of both teams  hit it  till a foul is committed  \\nor ball falls on the ground . This period, from the point it is put to service till it halts is called a \\nrally . It is a complete rally if one of the teams score s a point.  \\n \\n\\uf0b7 Service  – Players  hit the ball with their fist, wrist , or arm,  from the service zone \\nand it has to move above the net to the other teams play zone.  \\n\\uf0b7 Warm up sessions  – Players can get used to the environment and practice in a \\nshort six to ten minute  warm up sessio ns before the actual game begins.  \\n\\uf0b7 Attack hit – The hit that sends the ball to the opponent  side. \\n\\uf0b7 Positional Fault  – Players are numbered in anti -clockwise starting from the player \\nin extreme right position in the back row. So, players in the  front row are numbered \\n4, 3 and 2 and players in the back row are numbered 5, 6 and 1 from left to right. \\nThey should lie in the same positions declared before beginning a set, when ball is \\nserved, else they earn a fault. However, after the service they m ay move within \\ntheir court.  \\n\\uf0b7 Rotational  Fault – If a receiving team earns a chance to serve, its players change \\npositions and move clockwise, i.e. player in 1st position moves to 6th, player in 2nd \\nposition moves to 1st, etc. Not changing positions accordi ng to this order leads to \\na fault. An exception to this rule  is the Libero  who cannot serve or enter the front \\ncourt.  \\n\\uf0b7 Four Hit Foul --Three players in the receiving team may hit the ball consecutively \\nand the fourth hit should deliver the ball  to the other side, failing so will earn them \\na four hit fault.  \\n\\uf0b7 Double Contact  --Players should hit the ball to a teammate or to the other team . \\nSimultaneous hitting leads to a fault.  \\n\\uf0b7 Assisted Hit  – Players shouldn’t receive help from their tea mmates or any other \\nobjects like posts to hit the ball.  \\n\\uf0b7 Serving  Fault  – Players should serve according to the serving order. They should \\nhit the ball according to the rules and when instructed. Not complying with these \\nrules leads to a serving fault.  \\n\\uf0b7 Doubl e fault  – If opponents commit faults successively, they have to play the rally \\nagain. This sc enario is called a Double Fault  \\n\\uf0b7 Blocking – Players near the net may jump and hit the ball near the net  after an \\nattack hit . Sometimes the ball doesn’t even complet ely cross the net. This action is \\nreferred to as blocking . \\n\\uf0b7 Crossing space  – The gap or space between the antennae and above the net is \\ntermed as Crossing Space . This space can also extend to the roofs inside the \\nindoor courts.  The ball should cross the net  only through the crossing space.  \\n 4. Volleyball – Common Terms  ', metadata={'source': 'volley.pdf', 'page': 7}),\n",
       " Document(page_content=' \\n \\nVolleyball  \\n8 \\n Before the tournament starts, coaches of both the teams handover the players list and \\ntheir corresponding positions to the referee.  \\nGetting Ready  \\nBoth the teams participate in a warm -up sessi on of six to ten minutes.  All the players \\nshould be ready and should comply with the rules and obey the decisions of the referee.  \\nSubstitute players should also be ready and should join the team when the referee allows \\nthem.  \\nThe other non -playing team members and substitute players take their positions in the \\nteam bench.  The match starts with the referee tossing a coin in the presence of team \\ncaptains of both the teams.  The team that wins the toss chooses between serving the ball \\nand in r eceiving the service. It also chooses which side of the court it will play.  \\nQuick Glimpse of the Game  \\nHere’s how the ball moves among the players in a volleyball rally.  \\nOne player  is positioned extreme right in the back line of t he team that should serve as \\nper the toss , puts the ball into play with a service.  If it reaches the opponents side, various \\nmembers of the team  hit the ball three times successively.  In case of a service fault, the \\nother team gets a chance to serve.   \\n \\nAfter the servi ce, the ball should cross the net and reach the receivers side  with in the \\ncourt play zone , without touching  any player of the serv ing team . The fourth hit from a \\n5. Volleyball – How to Play ? ', metadata={'source': 'volley.pdf', 'page': 8}),\n",
       " Document(page_content=' \\n \\nVolleyball  \\n9 \\n team should be an attack hit and the ball shou ld be sent back to the servi ng team  side. \\nThe ball moves among players till it is grounded or till one of the players c ommits a fault.  \\nIf a team makes a fault, the opponent  team wins a point and gets a chance to serve.  If \\nthe team servicing the ball grounds in the opponent  side, it wins a p oint and the same \\nplayer serves again.  \\nIf the other team wins a point and the ball is grounded on the servicing team  side, the \\nopponen t team gets a point and a chance to serve again.  Players of the receiving team  \\nshould rotate  in the specified order before serving the ball.  A toss determines which team \\nshould serve first in the fifth deciding set.  \\nWinning a M atch \\nEach match is divided into five set s. A team that wins three sets wins the match. A team \\nwins a set if it scor es 25 points and leads the other team by at least 2 points. If the lead \\nis less than two points, both the teams continue playing till a wider lead is achieved.  If \\nboth the teams won two matches each, then the team that wins fifteen points and leads \\nthe other team by at least two points in the fifth deciding set wins the match.   ', metadata={'source': 'volley.pdf', 'page': 9}),\n",
       " Document(page_content=' \\n \\nVolleyball  \\n10 \\n Here is a set of rules that are to be followed while playing volleyball:  \\n\\uf0b7 When the ball is in play, it should n’t cross the side lines and end lines. At the net \\nthe ball should stay between the antennae.  \\n\\uf0b7 Players are not prevented from hitting the ball at the same time. But, when two \\nplayed hit it, they have made two hits.  \\n\\uf0b7 Two players from opposing teams may hit the ball at the same time, but i f the ball \\ngoes out of the court, then the team at the other side of the court is awarded a \\nfault. \\n\\uf0b7 Players shouldn’ t cross the center line while the ball is in play.  Sometimes their \\nhands may reach the opponents court while trying to block a ball, but thei r feet \\nshouldn’t be placed in the opponent  area and they should never interfere with the \\nopponents hits.  \\n\\uf0b7 They shouldn’t touch the net  in such a way that it obstructs the game  or interferes \\nwith the opponents play . However, the ball may  touch the net or ge t struck in it. \\nIt can be hit back and brought into play.  \\n\\uf0b7 No player should obstruct opponents from hitting the ball or moving . \\n\\uf0b7 After the referee whistles and instructs for a service, the player should serve the \\nball within 8 seconds.  \\n\\uf0b7 The front -row players should deliver an attack hit only from their playing space.  \\n\\uf0b7 A back -row player should deliver an attack hit only away from the front zone, but \\nmay reach the front zone after the hit. But, if the ball is too low, lower than the top \\nof the net, he/she may del iver an attack hit by moving to the front zone.  \\n\\uf0b7 A receiving team shouldn’t deliver an attack hit from the front zone when the ball \\nis still higher than  the top of the net . \\n\\uf0b7 The libero or any player from the back row should not block the ball.  \\n\\uf0b7 The Libero can not serve or block the ball.  \\n\\uf0b7 A ball shouldn’t be blocked just after a service.  \\n\\uf0b7 Players shouldn’t catch the ball and throw it. They should only hit the ball.  \\n \\n \\n 6. Volleyball – Rules  ', metadata={'source': 'volley.pdf', 'page': 10}),\n",
       " Document(page_content=' \\n \\nVolleyball  \\n11 \\n Volleyball is a very versatile sport and can be modified to suit us. It c an be played both \\nindoors and outdoors. Here are some popular variants of volleyball played to improve \\nfitness or just for fun.  \\nBeach Volleyball  \\nBeach Volleyball  is very popular and is played between  two teams of two players each . \\nThough it is inspired from volleyball, it is officially recognized by FIVB as a separate sport.  \\nA game inspired from beach volleyball is played in an indoor sand court and is called as \\nindoor sand volley ball.  \\nSepak T akraw  \\nThis is a very ancient game played  centuries  ago in Philippines, Indonesia and Laos and is \\npopular across Asia. The rules are very similar to that of volleyball, except that players \\ndon’t use their hands but shoot a traditio nal rattan ball with their heads, torsos and legs . \\nShooting V olleyball  \\nThis is an Indian variant of volleyball and is also played in parts of Pakistan.  An extra \\nseventh player in each team stays near the net and is called the net man. He sho ots the \\nball as high as possible and tempts the opponents into making a fault. The ball is similar \\nto handball and the court has the dimensions 35 x 70 ft.  \\nSitting Volleyball  \\nThese players  sit and play volleyball in a smaller 1 0 x 6-meter  court. Though players sit \\nduring the game, it is an interesting fast paced game and required good stamina and skill. \\nSitting volleyball event for men and women is included in Summer Paralympics.  \\nAquatic V olleyball  \\nAquatic  volleyball is played in shallow swimming pools or shallow beaches. It is also called \\npool volleyball or aquapolo . \\nOther variations  \\nThere are other variations of volleyball like Wally ball, nine-man; played across Asia and \\nthe United States. Some o f these were traditionally played and some evolved to suit their \\npreferences. These games are played with different kinds of balls, hand balls, medicine \\nballs etc. Some of these are played in courts of different measurements, some even in a \\nracquetball cou rt. Some others are played with more players.  7. Volleyball  – Variants  ', metadata={'source': 'volley.pdf', 'page': 11}),\n",
       " Document(page_content=' \\n \\nVolleyball  \\n12 \\n Volleyball  was introduced  in the Olympics in 1964.  Volley ball is widely played across the world and \\nvarious tournaments are conducted in many countries. The most popular tournaments are listed \\nbelow.  \\n\\uf0b7 FIVB Volleyball World Cup  \\n\\uf0b7 FIVB World Championship  \\n\\uf0b7 Regional Championships (Pan - American, African, Asian, European Games)  \\n\\uf0b7 Olympics  \\nEach of these tournaments are held in a different year and once in every four years.  Women also \\ntake part activ ely and separate events are organized for women in all of the tournaments.  \\nLet us now have a brief look at some of the champions of volleyball and their careers.  \\nLang Ping  \\nLang Ping fondly called  as ‘Iron Hammer’  for her spiking abi lities, is a Chinese volleyball champion . \\nShe was a lead player  in the Chinese team that won World Cup Championship in 1981, World \\nChampionship in 1982, Olympic gold in 1984 and World Cup Championship in 1985. She later \\nbecame a volleyball coach an d coached in Italy, United States and China.  \\nShe started her international career with a Bronze Medal at the 1978 Asian Games . She had played \\na major part when the Chinese Women’s National Team was on top in the early 1980’s.  \\nInna Ryskal  \\nInna Ryskal  was a member of the former USSR ’s national team. She was nicknamed \"Kaspiiskaia \\nThunderstorm\" for her athletic power  and is a  four time Olympian who won a silver medal in 1964 \\nOlympics, a gold in 1968 Olympics, a gold in 1972 Olympics and a silver in 1976 Olym pics. \\nInna had a long and eventful career with the women\\'s National Team of the former USSR. She played \\nin four Olympiads and brought home four medals, two silver and two gold.  \\nIn 1960 at the age of 15, she was invited to play with the Women\\'s Junior Nati onal Team. She moved \\nup to the Women\\'s National Team in 1961 and played with the National Team through the 1976 \\nOlympic Games.  \\nFernanda Venturini  \\nFernanda Venturini  is one of the most celebrated Brazilian players. She played 342 international \\nmatches and won various medals at World Championships.  She played her last match in 1998 where \\nBrazil got fourth rank.  \\nFernanda first played Volleyball at the age of 11 for her city school. At the age of 15, she started \\nplay for the Pao de Azucar club of Sao Paulo.  \\nTwo years later, she was playing in her first Olympic Games for Brazil in Seoul 1988 as a spiker. \\nAfter that, she found more success as a setter.  \\nAlejandrina Mireya Luis Hernández  \\nAlejandrina Mireya Luis Hernández,  usually r eferred as Mireya, is a Cuba n Volleyball player who \\nplayed a key role in winning the World Cup in 1991. She is  a three time Olympian and won  Gold \\nmedals  at the 1992 Olympics , 1996 Olympics and the 2000 Olympics.  8. Volley ball – Champions  ', metadata={'source': 'volley.pdf', 'page': 12}),\n",
       " Document(page_content=\" \\n \\nVolleyball  \\n13 \\n At the age of 16, Mireya joined the Cuban national team for the 1983 Pan -American Games, in which \\nCuba took first place. In 1991 , she led the Cuban team to win its first ever World Cup in Mexico in \\n1991.  \\nMireya won her first Olympic gold medal at the 1992 Games in Barcelona . She also led Cuba to two \\nworld championships in 199 4 where she was chosen the best spiker and Cuba won every match with \\na perfect 3 -0.  \\nCharles 'Karch' Kiraly  \\nCharles Kiraly  played for the United States National volleyball team and won three Olympic \\ngold medals . He won two medals in 1984,  and 1988 as a vo lleyball player and won a nother  \\ngold at 1996 Olympics as a beach volleyball player.  \\nKiraly is considered by most as the greatest volleyball player of all time. His career spanned \\nfour decades and he had success both indoors and on the beach. Karch is the only player \\nto win gold medals in the Olympics in both indoor and beach volleyball.  \\nLorenzo Bernardi  \\nLorenzo Bernardi  is an Italian Champion who won two world champions hips in 1990 and \\n1994, a World Cup in 1995, a silver medal at the 1996 Olympics. He was declared the \\nVolleyball Player of the Century by FIVB.  \\nBernardi started his career in the 1980s as a setter. Later, he found success as a hitter \\nand passer. Bernardi won the Italian championship nine times with Modena and with  Sisley \\nTreviso . \\nBernardi has won two European  gold medals, two  World Championships , three  Volleyball \\nWorld Leagues  and the  Volleyball World Cup  in 1995. His international tally also includes \\ntwo more gold medals, five silver medals , and one bronze.  \\nTomas Wojtowicz  \\nTomas Wojtowicz was a crucial member of the Polish National men’s team and helped in \\nshaping the team as a top team in the 1970 ’s.  \\nHe was  an all -rounder and good at leaping, hitting and spiking. He also played as a middle \\nblocke r. He helped the Polish team win a Gold medal at the 1974 World Championships \\nand a gold medal at the 1976 Olympic Games.  \\nHe also won five Silver Medals at the European Championships in 1975, 1977, 1979, 1981 \\nand 1983. He continued playing volleyball in t he Italian Leagues in the mid -1980’s, winning \\nthe Champions Cup in 1985.  \\nGilberto Amauri de Godoy Filho  \\nGilberto Amauri de Godoy Filho, fondly called as Giba, is a former Brazilian volleyball \\nChampion.  \\nGiba debuted for the Brazilian National Team at th e age of 18 in 1995. His first major \\nsuccess with the team was winning a title of the World Grand Champions Cup  in 1997.  \\nHe has won three World Championships in 2002, 2006 and 2010, a gold medal at Olympics \\nin 2004, a silver medal  each at Olympics in 2008 and 2012. In 2014, Giba retired from \\nprofessional volleyball at the age of 37.  \\n \", metadata={'source': 'volley.pdf', 'page': 13})]"
      ]
     },
     "execution_count": 4,
     "metadata": {},
     "output_type": "execute_result"
    }
   ],
   "source": [
    "from langchain_community.document_loaders import PyPDFLoader\n",
    "loader=PyPDFLoader(\"volley.pdf\")\n",
    "docs=loader.load()\n",
    "docs"
   ]
  },
  {
   "cell_type": "code",
   "execution_count": 14,
   "metadata": {},
   "outputs": [
    {
     "data": {
      "text/plain": [
       "[Document(page_content='Volleyball  \\n1 \\n About the T utorial  \\nVolleyball is played by two teams in a rectangular court, divided into tw o equal halves \\nacross the length by a net tightly stretched between two poles fixed at either sides of the \\ncourt. It is one of most popular games and is today widely played across the world.  This \\ntutorial will provide you with a bird’s -eye-view of this pop ular game and its rules.  \\n \\nAudience  \\nVolleyball is widely played across the world and various tournaments are conducted in \\nmany countries. People like to  watch  and play this game. This tutorial is meant for all \\nthose readers who want to learn how to play volleyball.  \\n \\nPrerequisites  \\nThere are no prerequisites whatsoever.  All that you need to have is an eagerness to learn \\nand play this game.  \\n \\nCopyright & Disclaimer  \\n\\uf0e3 Copyright 20 22 by Tutorials Point  (I) Pvt. Ltd.  \\nAll the content and graphics published in this e -book are the property of Tutorials Point (I)', metadata={'source': 'volley.pdf', 'page': 1}),\n",
       " Document(page_content='Pvt. Ltd. The user of this e -book is prohibited to reuse, retain, copy, distribute, or republish \\nany contents or a part of contents of this e -book in any manner without written consent \\nof the publisher.  \\nWe strive to update the contents of our website and tutorials as timely and as precisely as \\npossible, however, the contents may contain inaccuracies or errors. Tutorials Point (I) Pvt. \\nLtd. provides  no guarantee regarding the accuracy, timeliness, or completeness of our \\nwebsite or its contents including this tutorial. If you discover any errors on our website or \\nin this tutorial, please notify us at contact@tutorialspoint.com', metadata={'source': 'volley.pdf', 'page': 1}),\n",
       " Document(page_content='Volleyball  \\n2 \\n T able of Contents  \\nAbout the Tutorial  ................................ ................................ ................................ ................................ ...........  1 \\nAudience ................................ ................................ ................................ ................................ ..........................  1 \\nPrerequisites  ................................ ................................ ................................ ................................ ....................  1 \\nCopyright & Disclaimer  ................................ ................................ ................................ ................................ .... 1 \\nTable of Contents ................................ ................................ ................................ ................................ .............  2', metadata={'source': 'volley.pdf', 'page': 2}),\n",
       " Document(page_content='1. VOLLEYBALL – OVERVIE W ................................ ................................ ................................ .... 3 \\n2. VOLLEYBALL  – PLAYING ENVI RONMENT  ................................ ................................ ...............  5 \\n3. VOLLEYBALL  – EQUIPMENT  ................................ ................................ ................................ .. 6 \\n4. VOLLEYBALL – COMMON TERMS  ................................ ................................ .........................  7 \\n5. VOLLEYBALL – HOW TO PLAY?  ................................ ................................ .............................  8 \\n6. VOLLEYBALL – RULES  ................................ ................................ ................................ ..........  10 \\n7. VOLLEYBALL – VARIANTS  ................................ ................................ ................................ .... 11', metadata={'source': 'volley.pdf', 'page': 2}),\n",
       " Document(page_content='8. VOLLEYBALL  – CHAMPIONS  ................................ ................................ ................................  12', metadata={'source': 'volley.pdf', 'page': 2})]"
      ]
     },
     "execution_count": 14,
     "metadata": {},
     "output_type": "execute_result"
    }
   ],
   "source": [
    "from langchain.text_splitter import RecursiveCharacterTextSplitter\n",
    "text_splitter= RecursiveCharacterTextSplitter(chunk_size=1000, chunk_overlap=20)\n",
    "docs=text_splitter.split_documents(docs)[:50]\n",
    "docs"
   ]
  },
  {
   "cell_type": "code",
   "execution_count": 15,
   "metadata": {},
   "outputs": [],
   "source": [
    "#Vector embeddings and Vector Store\n",
    "from langchain_community.embeddings import OllamaEmbeddings\n",
    "from langchain_community.vectorstores import FAISS\n",
    "db=FAISS.from_documents(docs[:15],OllamaEmbeddings())\n",
    "\n"
   ]
  },
  {
   "cell_type": "code",
   "execution_count": 22,
   "metadata": {},
   "outputs": [
    {
     "data": {
      "text/plain": [
       "[Document(page_content='Volleyball  \\n1 \\n About the T utorial  \\nVolleyball is played by two teams in a rectangular court, divided into tw o equal halves \\nacross the length by a net tightly stretched between two poles fixed at either sides of the \\ncourt. It is one of most popular games and is today widely played across the world.  This \\ntutorial will provide you with a bird’s -eye-view of this pop ular game and its rules.  \\n \\nAudience  \\nVolleyball is widely played across the world and various tournaments are conducted in \\nmany countries. People like to  watch  and play this game. This tutorial is meant for all \\nthose readers who want to learn how to play volleyball.  \\n \\nPrerequisites  \\nThere are no prerequisites whatsoever.  All that you need to have is an eagerness to learn \\nand play this game.  \\n \\nCopyright & Disclaimer  \\n\\uf0e3 Copyright 20 22 by Tutorials Point  (I) Pvt. Ltd.  \\nAll the content and graphics published in this e -book are the property of Tutorials Point (I)', metadata={'source': 'volley.pdf', 'page': 1}),\n",
       " Document(page_content='Pvt. Ltd. The user of this e -book is prohibited to reuse, retain, copy, distribute, or republish \\nany contents or a part of contents of this e -book in any manner without written consent \\nof the publisher.  \\nWe strive to update the contents of our website and tutorials as timely and as precisely as \\npossible, however, the contents may contain inaccuracies or errors. Tutorials Point (I) Pvt. \\nLtd. provides  no guarantee regarding the accuracy, timeliness, or completeness of our \\nwebsite or its contents including this tutorial. If you discover any errors on our website or \\nin this tutorial, please notify us at contact@tutorialspoint.com', metadata={'source': 'volley.pdf', 'page': 1}),\n",
       " Document(page_content='Volleyball  \\n2 \\n T able of Contents  \\nAbout the Tutorial  ................................ ................................ ................................ ................................ ...........  1 \\nAudience ................................ ................................ ................................ ................................ ..........................  1 \\nPrerequisites  ................................ ................................ ................................ ................................ ....................  1 \\nCopyright & Disclaimer  ................................ ................................ ................................ ................................ .... 1 \\nTable of Contents ................................ ................................ ................................ ................................ .............  2', metadata={'source': 'volley.pdf', 'page': 2}),\n",
       " Document(page_content='1. VOLLEYBALL – OVERVIE W ................................ ................................ ................................ .... 3 \\n2. VOLLEYBALL  – PLAYING ENVI RONMENT  ................................ ................................ ...............  5 \\n3. VOLLEYBALL  – EQUIPMENT  ................................ ................................ ................................ .. 6 \\n4. VOLLEYBALL – COMMON TERMS  ................................ ................................ .........................  7 \\n5. VOLLEYBALL – HOW TO PLAY?  ................................ ................................ .............................  8 \\n6. VOLLEYBALL – RULES  ................................ ................................ ................................ ..........  10 \\n7. VOLLEYBALL – VARIANTS  ................................ ................................ ................................ .... 11', metadata={'source': 'volley.pdf', 'page': 2}),\n",
       " Document(page_content='8. VOLLEYBALL  – CHAMPIONS  ................................ ................................ ................................  12', metadata={'source': 'volley.pdf', 'page': 2})]"
      ]
     },
     "execution_count": 22,
     "metadata": {},
     "output_type": "execute_result"
    }
   ],
   "source": [
    "docs[:15]"
   ]
  },
  {
   "cell_type": "code",
   "execution_count": 23,
   "metadata": {},
   "outputs": [
    {
     "name": "stdout",
     "output_type": "stream",
     "text": [
      "Volleyball  \n",
      "1 \n",
      " About the T utorial  \n",
      "Volleyball is played by two teams in a rectangular court, divided into tw o equal halves \n",
      "across the length by a net tightly stretched between two poles fixed at either sides of the \n",
      "court. It is one of most popular games and is today widely played across the world.  This \n",
      "tutorial will provide you with a bird’s -eye-view of this pop ular game and its rules.  \n",
      " \n",
      "Audience  \n",
      "Volleyball is widely played across the world and various tournaments are conducted in \n",
      "many countries. People like to  watch  and play this game. This tutorial is meant for all \n",
      "those readers who want to learn how to play volleyball.  \n",
      " \n",
      "Prerequisites  \n",
      "There are no prerequisites whatsoever.  All that you need to have is an eagerness to learn \n",
      "and play this game.  \n",
      " \n",
      "Copyright & Disclaimer  \n",
      " Copyright 20 22 by Tutorials Point  (I) Pvt. Ltd.  \n",
      "All the content and graphics published in this e -book are the property of Tutorials Point (I)\n"
     ]
    }
   ],
   "source": [
    "query=\"what are the contents\"\n",
    "result=db.similarity_search(query)\n",
    "print(result[0].page_content) "
   ]
  },
  {
   "cell_type": "code",
   "execution_count": 30,
   "metadata": {},
   "outputs": [
    {
     "name": "stdout",
     "output_type": "stream",
     "text": [
      "8. VOLLEYBALL  – CHAMPIONS  ................................ ................................ ................................  12\n"
     ]
    }
   ],
   "source": [
    "query=\"what game are we talking about?\"\n",
    "result=db.similarity_search(query)\n",
    "print(result[0].page_content) "
   ]
  },
  {
   "cell_type": "code",
   "execution_count": 25,
   "metadata": {},
   "outputs": [
    {
     "data": {
      "text/plain": [
       "Ollama()"
      ]
     },
     "execution_count": 25,
     "metadata": {},
     "output_type": "execute_result"
    }
   ],
   "source": [
    "from langchain_community.llms import Ollama\n",
    "llm=Ollama(model='llama2')\n",
    "llm"
   ]
  },
  {
   "cell_type": "code",
   "execution_count": 26,
   "metadata": {},
   "outputs": [],
   "source": [
    "#Prompt template\n",
    "\n",
    "from langchain_core.prompts import ChatPromptTemplate\n",
    "promt=ChatPromptTemplate.from_template(\"\"\"\n",
    "Answer the question only based on provided context.\n",
    "Think step by step before providing the detailed answer.\n",
    "you can get a tip of $1000 if user finds it helpful\n",
    "<context>\n",
    "{context}\n",
    "</context>\n",
    "Question:{input}\"\"\"\n",
    ")\n"
   ]
  },
  {
   "cell_type": "code",
   "execution_count": 27,
   "metadata": {},
   "outputs": [],
   "source": [
    "#chain Intro\n",
    "from langchain.chains.combine_documents import create_stuff_documents_chain\n",
    "\n",
    "document_chain=create_stuff_documents_chain(llm,prompt=promt)\n",
    "\n",
    "\n",
    "#"
   ]
  },
  {
   "cell_type": "code",
   "execution_count": 28,
   "metadata": {},
   "outputs": [
    {
     "data": {
      "text/plain": [
       "VectorStoreRetriever(tags=['FAISS', 'OllamaEmbeddings'], vectorstore=<langchain_community.vectorstores.faiss.FAISS object at 0xffff82a9bdc0>)"
      ]
     },
     "execution_count": 28,
     "metadata": {},
     "output_type": "execute_result"
    }
   ],
   "source": [
    "##Retrivers for getting data from vector database/store\n",
    "\n",
    "retriver=db.as_retriever()\n",
    "retriver"
   ]
  },
  {
   "cell_type": "code",
   "execution_count": null,
   "metadata": {},
   "outputs": [],
   "source": [
    "from langchain.chains import create_retrieval_chain\n"
   ]
  }
 ],
 "metadata": {
  "kernelspec": {
   "display_name": "envllm",
   "language": "python",
   "name": "python3"
  },
  "language_info": {
   "codemirror_mode": {
    "name": "ipython",
    "version": 3
   },
   "file_extension": ".py",
   "mimetype": "text/x-python",
   "name": "python",
   "nbconvert_exporter": "python",
   "pygments_lexer": "ipython3",
   "version": "3.10.14"
  }
 },
 "nbformat": 4,
 "nbformat_minor": 2
}
