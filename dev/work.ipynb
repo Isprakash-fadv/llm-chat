{
 "cells": [
  {
   "cell_type": "code",
   "execution_count": 13,
   "metadata": {
    "metadata": {}
   },
   "outputs": [
    {
     "data": {
      "text/plain": [
       "<configparser.RawConfigParser at 0xffff9850b160>"
      ]
     },
     "execution_count": 13,
     "metadata": {},
     "output_type": "execute_result"
    }
   ],
   "source": []
  },
  {
   "cell_type": "code",
   "execution_count": 14,
   "metadata": {
    "metadata": {}
   },
   "outputs": [
    {
     "data": {
      "text/plain": [
       "'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'"
      ]
     },
     "execution_count": 14,
     "metadata": {},
     "output_type": "execute_result"
    }
   ],
   "source": [
    "configParser.get('config','lan_api')"
   ]
  },
  {
   "cell_type": "code",
   "execution_count": 2,
   "metadata": {},
   "outputs": [],
   "source": [
    "import requests"
   ]
  },
  {
   "cell_type": "code",
   "execution_count": 12,
   "metadata": {},
   "outputs": [],
   "source": [
    "url=\"http://localhost:8000/essay/invoke\"\n",
    "inputtext='cars'\n",
    "data={\"input\":{\"topic\":inputtext}}\n",
    "response=requests.post(url,json=data,verify=False)\n",
    "\n",
    "\n",
    "\n"
   ]
  },
  {
   "cell_type": "code",
   "execution_count": null,
   "metadata": {},
   "outputs": [],
   "source": []
  },
  {
   "cell_type": "code",
   "execution_count": null,
   "metadata": {},
   "outputs": [],
   "source": []
  },
  {
   "cell_type": "code",
   "execution_count": 7,
   "metadata": {},
   "outputs": [
    {
     "name": "stderr",
     "output_type": "stream",
     "text": [
      "/tmp/ipykernel_497602/3401449831.py:15: DeprecationWarning: ssl.PROTOCOL_TLS is deprecated\n",
      "  sslSettings = ssl.SSLContext(ssl.PROTOCOL_TLS);\n"
     ]
    }
   ],
   "source": [
    "import socket\n",
    "\n",
    "import ssl\n",
    "\n",
    "import os\n",
    "\n",
    "import certifi\n",
    "\n",
    " \n",
    "\n",
    "# Create an SSLContext instance by specifying the highest TLS protocol\n",
    "\n",
    "# that both the client and the server supports\n",
    "\n",
    "sslSettings = ssl.SSLContext(ssl.PROTOCOL_TLS);"
   ]
  },
  {
   "cell_type": "code",
   "execution_count": 10,
   "metadata": {},
   "outputs": [],
   "source": [
    "con_socket = socket.socket();\n",
    "\n",
    " \n",
    "\n",
    "# Make SSLSocket from the connection oriented socket\n",
    "\n",
    "sslSocket  = sslSettings.wrap_socket(con_socket);\n",
    "\n",
    "con_socket.close();"
   ]
  },
  {
   "cell_type": "code",
   "execution_count": null,
   "metadata": {},
   "outputs": [],
   "source": []
  },
  {
   "cell_type": "code",
   "execution_count": null,
   "metadata": {},
   "outputs": [],
   "source": []
  }
 ],
 "metadata": {
  "kernelspec": {
   "display_name": "Python 3",
   "language": "python",
   "name": "python3"
  },
  "language_info": {
   "codemirror_mode": {
    "name": "ipython",
    "version": 3
   },
   "file_extension": ".py",
   "mimetype": "text/x-python",
   "name": "python",
   "nbconvert_exporter": "python",
   "pygments_lexer": "ipython3",
   "version": "3.10.12"
  }
 },
 "nbformat": 4,
 "nbformat_minor": 2
}
